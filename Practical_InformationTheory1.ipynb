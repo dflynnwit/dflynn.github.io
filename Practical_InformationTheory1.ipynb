{
  "nbformat": 4,
  "nbformat_minor": 0,
  "metadata": {
    "colab": {
      "name": "Practical_InformationTheory1.ipynb",
      "provenance": [],
      "authorship_tag": "ABX9TyNAHqFOuVr8G0jXscC0pU6t",
      "include_colab_link": true
    },
    "kernelspec": {
      "name": "python3",
      "display_name": "Python 3"
    }
  },
  "cells": [
    {
      "cell_type": "markdown",
      "metadata": {
        "id": "view-in-github",
        "colab_type": "text"
      },
      "source": [
        "<a href=\"https://colab.research.google.com/github/dflynnwit/dflynn.github.io/blob/master/Practical_InformationTheory1.ipynb\" target=\"_parent\"><img src=\"https://colab.research.google.com/assets/colab-badge.svg\" alt=\"Open In Colab\"/></a>"
      ]
    },
    {
      "cell_type": "code",
      "metadata": {
        "id": "9S8eal-OlrBt"
      },
      "source": [
        "import numpy as np\n",
        "from sympy import symbols,Matrix\n",
        "import matplotlib.pyplot as plt"
      ],
      "execution_count": 40,
      "outputs": []
    },
    {
      "cell_type": "code",
      "metadata": {
        "id": "1bNhOtvwlss0"
      },
      "source": [
        "C = np.array([[1, 2, 3], [4, 5, 6]])"
      ],
      "execution_count": 4,
      "outputs": []
    },
    {
      "cell_type": "code",
      "metadata": {
        "colab": {
          "base_uri": "https://localhost:8080/"
        },
        "id": "pf8RjaQvlw5H",
        "outputId": "0e979367-0dd2-4945-c0fd-43111c542f66"
      },
      "source": [
        "print(C)"
      ],
      "execution_count": 5,
      "outputs": [
        {
          "output_type": "stream",
          "text": [
            "[[1 2 3]\n",
            " [4 5 6]]\n"
          ],
          "name": "stdout"
        }
      ]
    },
    {
      "cell_type": "code",
      "metadata": {
        "id": "Pdu3yroRmUah"
      },
      "source": [
        "from sympy import symbols,Matrix"
      ],
      "execution_count": 13,
      "outputs": []
    },
    {
      "cell_type": "code",
      "metadata": {
        "colab": {
          "base_uri": "https://localhost:8080/",
          "height": 58
        },
        "id": "mlPqjMh9ma-2",
        "outputId": "6c1290d7-5c5c-42ae-aba8-44649f624431"
      },
      "source": [
        "Matrix(C)"
      ],
      "execution_count": 14,
      "outputs": [
        {
          "output_type": "execute_result",
          "data": {
            "text/latex": "$\\displaystyle \\left[\\begin{matrix}1 & 2 & 3\\\\4 & 5 & 6\\end{matrix}\\right]$",
            "text/plain": [
              "Matrix([\n",
              "[1, 2, 3],\n",
              "[4, 5, 6]])"
            ]
          },
          "metadata": {
            "tags": []
          },
          "execution_count": 14
        }
      ]
    },
    {
      "cell_type": "code",
      "metadata": {
        "id": "k29E31pGm5F9"
      },
      "source": [
        "D = np.array([[1, 2],[3,4] ,[ 5, 6]])"
      ],
      "execution_count": 15,
      "outputs": []
    },
    {
      "cell_type": "code",
      "metadata": {
        "colab": {
          "base_uri": "https://localhost:8080/",
          "height": 79
        },
        "id": "l7f61oAlnG8P",
        "outputId": "535bca19-792c-4528-9c97-5569af04c93b"
      },
      "source": [
        "Matrix(D)"
      ],
      "execution_count": 16,
      "outputs": [
        {
          "output_type": "execute_result",
          "data": {
            "text/latex": "$\\displaystyle \\left[\\begin{matrix}1 & 2\\\\3 & 4\\\\5 & 6\\end{matrix}\\right]$",
            "text/plain": [
              "Matrix([\n",
              "[1, 2],\n",
              "[3, 4],\n",
              "[5, 6]])"
            ]
          },
          "metadata": {
            "tags": []
          },
          "execution_count": 16
        }
      ]
    },
    {
      "cell_type": "code",
      "metadata": {
        "id": "FJGTr7ponOCI"
      },
      "source": [
        "?Matrix"
      ],
      "execution_count": 17,
      "outputs": []
    },
    {
      "cell_type": "code",
      "metadata": {
        "id": "I90S8b8pnHrU"
      },
      "source": [
        "E= np.array([[1, 3, 5],[3,4,5] ])"
      ],
      "execution_count": 20,
      "outputs": []
    },
    {
      "cell_type": "code",
      "metadata": {
        "colab": {
          "base_uri": "https://localhost:8080/",
          "height": 58
        },
        "id": "xbYSpQr6n2Lu",
        "outputId": "cc6fd51e-e2e9-44df-ea4a-3861cfeac035"
      },
      "source": [
        "Matrix(E)"
      ],
      "execution_count": 21,
      "outputs": [
        {
          "output_type": "execute_result",
          "data": {
            "text/latex": "$\\displaystyle \\left[\\begin{matrix}1 & 3 & 5\\\\3 & 4 & 5\\end{matrix}\\right]$",
            "text/plain": [
              "Matrix([\n",
              "[1, 3, 5],\n",
              "[3, 4, 5]])"
            ]
          },
          "metadata": {
            "tags": []
          },
          "execution_count": 21
        }
      ]
    },
    {
      "cell_type": "code",
      "metadata": {
        "colab": {
          "base_uri": "https://localhost:8080/",
          "height": 79
        },
        "id": "2AmYQAgyn3wz",
        "outputId": "4b62fc45-8079-4493-e742-8c62e86579d0"
      },
      "source": [
        "Matrix(E.transpose())"
      ],
      "execution_count": 23,
      "outputs": [
        {
          "output_type": "execute_result",
          "data": {
            "text/latex": "$\\displaystyle \\left[\\begin{matrix}1 & 3\\\\3 & 4\\\\5 & 5\\end{matrix}\\right]$",
            "text/plain": [
              "Matrix([\n",
              "[1, 3],\n",
              "[3, 4],\n",
              "[5, 5]])"
            ]
          },
          "metadata": {
            "tags": []
          },
          "execution_count": 23
        }
      ]
    },
    {
      "cell_type": "code",
      "metadata": {
        "colab": {
          "base_uri": "https://localhost:8080/"
        },
        "id": "RBdW3vOnn-5j",
        "outputId": "786fba91-6a1e-4efa-f42c-c6a00f1f2da7"
      },
      "source": [
        "np.diag(C)"
      ],
      "execution_count": 27,
      "outputs": [
        {
          "output_type": "execute_result",
          "data": {
            "text/plain": [
              "array([1, 5])"
            ]
          },
          "metadata": {
            "tags": []
          },
          "execution_count": 27
        }
      ]
    },
    {
      "cell_type": "code",
      "metadata": {
        "colab": {
          "base_uri": "https://localhost:8080/",
          "height": 99
        },
        "id": "PwYbM4cgoHMf",
        "outputId": "a1e1a09c-3191-40c0-b0c5-a78c5bb63e32"
      },
      "source": [
        "Matrix(np.ones(4).transpose())"
      ],
      "execution_count": 30,
      "outputs": [
        {
          "output_type": "execute_result",
          "data": {
            "text/latex": "$\\displaystyle \\left[\\begin{matrix}1.0\\\\1.0\\\\1.0\\\\1.0\\end{matrix}\\right]$",
            "text/plain": [
              "Matrix([\n",
              "[1.0],\n",
              "[1.0],\n",
              "[1.0],\n",
              "[1.0]])"
            ]
          },
          "metadata": {
            "tags": []
          },
          "execution_count": 30
        }
      ]
    },
    {
      "cell_type": "code",
      "metadata": {
        "id": "-tWnWseJoQnN"
      },
      "source": [
        "horseRaceUniform = np.ones(8)*1/8"
      ],
      "execution_count": 31,
      "outputs": []
    },
    {
      "cell_type": "code",
      "metadata": {
        "colab": {
          "base_uri": "https://localhost:8080/"
        },
        "id": "AZ7nO34Uo4FP",
        "outputId": "cd69ce32-4ec6-4286-855f-d91e80b34e96"
      },
      "source": [
        "horseRaceUniform"
      ],
      "execution_count": 32,
      "outputs": [
        {
          "output_type": "execute_result",
          "data": {
            "text/plain": [
              "array([0.125, 0.125, 0.125, 0.125, 0.125, 0.125, 0.125, 0.125])"
            ]
          },
          "metadata": {
            "tags": []
          },
          "execution_count": 32
        }
      ]
    },
    {
      "cell_type": "code",
      "metadata": {
        "colab": {
          "base_uri": "https://localhost:8080/",
          "height": 181
        },
        "id": "5HlPaVQto5Eb",
        "outputId": "a0ffa010-bfb7-4de4-e515-6bc4fb1c18f7"
      },
      "source": [
        "Matrix(horseRaceUniform)"
      ],
      "execution_count": 33,
      "outputs": [
        {
          "output_type": "execute_result",
          "data": {
            "text/latex": "$\\displaystyle \\left[\\begin{matrix}0.125\\\\0.125\\\\0.125\\\\0.125\\\\0.125\\\\0.125\\\\0.125\\\\0.125\\end{matrix}\\right]$",
            "text/plain": [
              "Matrix([\n",
              "[0.125],\n",
              "[0.125],\n",
              "[0.125],\n",
              "[0.125],\n",
              "[0.125],\n",
              "[0.125],\n",
              "[0.125],\n",
              "[0.125]])"
            ]
          },
          "metadata": {
            "tags": []
          },
          "execution_count": 33
        }
      ]
    },
    {
      "cell_type": "code",
      "metadata": {
        "id": "I_UDIFBWo7qF"
      },
      "source": [
        "def Entropy(x):\n",
        "  newX = [i for i in x if i>0]\n",
        "  return -np.sum([px*np.log2(px) for px in newX])"
      ],
      "execution_count": 34,
      "outputs": []
    },
    {
      "cell_type": "code",
      "metadata": {
        "colab": {
          "base_uri": "https://localhost:8080/"
        },
        "id": "FRID1-0ipjvN",
        "outputId": "c3761286-d7ef-46e8-b10c-c28f263c3c88"
      },
      "source": [
        "Entropy(horseRaceUniform)"
      ],
      "execution_count": 35,
      "outputs": [
        {
          "output_type": "execute_result",
          "data": {
            "text/plain": [
              "3.0"
            ]
          },
          "metadata": {
            "tags": []
          },
          "execution_count": 35
        }
      ]
    },
    {
      "cell_type": "code",
      "metadata": {
        "colab": {
          "base_uri": "https://localhost:8080/",
          "height": 266
        },
        "id": "CMO4yfR8rwNR",
        "outputId": "175fa2d5-488a-45fe-8b62-3fdbd351a44e"
      },
      "source": [
        "from scipy import stats\n",
        "xk = range(8)\n",
        "pk = horseRaceNonUniform\n",
        "custm = stats.rv_discrete(name = 'custm', values = (xk, pk))\n",
        "\n",
        "fig, ax = plt.subplots(1,1)\n",
        "ax.plot(xk,custm.pmf(xk))\n",
        "ax.vlines(xk,0, custm.pmf(xk), colors='r', lw=4)\n",
        "plt.show()"
      ],
      "execution_count": 47,
      "outputs": [
        {
          "output_type": "display_data",
          "data": {
            "image/png": "[encoded data removed]",
            "text/plain": [
              "<Figure size 432x288 with 1 Axes>"
            ]
          },
          "metadata": {
            "tags": [],
            "needs_background": "light"
          }
        }
      ]
    },
    {
      "cell_type": "code",
      "metadata": {
        "id": "0dRm1H7bplLO"
      },
      "source": [
        "horseRaceNonUniform = [1/2,1/4,1/8,1/16,1/64,1/64,1/64,1/64]"
      ],
      "execution_count": 36,
      "outputs": []
    },
    {
      "cell_type": "code",
      "metadata": {
        "colab": {
          "base_uri": "https://localhost:8080/"
        },
        "id": "o2WRDzmYpzHk",
        "outputId": "40ba1508-1496-4e32-8991-6f803f361ac9"
      },
      "source": [
        "Entropy(horseRaceNonUniform)"
      ],
      "execution_count": 37,
      "outputs": [
        {
          "output_type": "execute_result",
          "data": {
            "text/plain": [
              "2.0"
            ]
          },
          "metadata": {
            "tags": []
          },
          "execution_count": 37
        }
      ]
    },
    {
      "cell_type": "code",
      "metadata": {
        "colab": {
          "base_uri": "https://localhost:8080/",
          "height": 280
        },
        "id": "Jzj7N5X_p0O7",
        "outputId": "178ee136-6517-4b3e-d510-9b76e87fd239"
      },
      "source": [
        "num_throws = 10000\n",
        "outcomes = np.zeros(num_throws)\n",
        "for i in range(num_throws):\n",
        "    # let's roll the die\n",
        "    outcome = np.random.choice(['1', '2', '3', '4', '5', '6'])\n",
        "    outcomes[i] = outcome\n",
        "\n",
        "\n",
        "val, cnt = np.unique(outcomes, return_counts=True)\n",
        "prop = cnt / len(outcomes)\n",
        "\n",
        "# Now that we have rolled our die 10000 times, let's plot the results\n",
        "plt.bar(val, prop)\n",
        "plt.ylabel(\"Probability\")\n",
        "plt.xlabel(\"Outcome\")\n",
        "plt.show()\n",
        "plt.close()"
      ],
      "execution_count": 41,
      "outputs": [
        {
          "output_type": "display_data",
          "data": {
            "image/png": "[encoded data removed]",
            "text/plain": [
              "<Figure size 432x288 with 1 Axes>"
            ]
          },
          "metadata": {
            "tags": [],
            "needs_background": "light"
          }
        }
      ]
    },
    {
      "cell_type": "code",
      "metadata": {
        "id": "XkHdtY46qZhC"
      },
      "source": [
        ""
      ],
      "execution_count": null,
      "outputs": []
    }
  ]
}