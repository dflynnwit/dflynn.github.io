{
  "cells": [
    {
      "cell_type": "markdown",
      "metadata": {
        "id": "view-in-github",
        "colab_type": "text"
      },
      "source": [
        "<a href=\"https://colab.research.google.com/github/dflynnwit/dflynn.github.io/blob/master/Another_copy_of_DM_P03___Sets.ipynb\" target=\"_parent\"><img src=\"https://colab.research.google.com/assets/colab-badge.svg\" alt=\"Open In Colab\"/></a>"
      ]
    },
    {
      "cell_type": "markdown",
      "metadata": {
        "id": "GbC9UdF9Q8b_",
        "label": "title"
      },
      "source": [
        "# Practical 03 - Sets"
      ]
    },
    {
      "cell_type": "markdown",
      "metadata": {
        "id": "_-UuIfogtpi2",
        "label": "setup"
      },
      "source": [
        "## Setup"
      ]
    },
    {
      "cell_type": "code",
      "execution_count": null,
      "metadata": {
        "cellView": "form",
        "id": "yW3AQAQHt02b"
      },
      "outputs": [],
      "source": [
        "#@markdown **Please enter your following details and press Shift-Enter to save:**\n",
        "your_student_number = '123456789' #@param {type: \"string\"}\n",
        "your_name = 'Denis flynn' #@param {type: \"string\"}"
      ]
    },
    {
      "cell_type": "code",
      "execution_count": null,
      "metadata": {
        "id": "PMOHc55Ft4xa",
        "colab": {
          "base_uri": "https://localhost:8080/",
          "height": 34
        },
        "outputId": "71fc131c-d912-44bb-9103-bbd25970f1c4"
      },
      "outputs": [
        {
          "output_type": "execute_result",
          "data": {
            "text/plain": [
              "<IPython.core.display.HTML object>"
            ],
            "text/html": [
              "<style>\n",
              "\n",
              "\n",
              "\n",
              "/* counting headers and my styling */\n",
              "\n",
              ".navbar-collapse.collapse {\n",
              "display: block!important;\n",
              "}\n",
              "\n",
              ".navbar-nav>li, .navbar-nav {\n",
              "float: left !important;\n",
              "}\n",
              "\n",
              ".navbar-nav.navbar-right:last-child {\n",
              "margin-right: -15px !important;\n",
              "}\n",
              "\n",
              ".navbar-right {\n",
              "float: right!important;\n",
              "}\n",
              "\n",
              "#notebook_name {\n",
              "    font-weight: 600;\n",
              "}\n",
              "\n",
              "h1 {\n",
              "\ttext-align: center;\n",
              "\tbackground-color: rgba(0,255,1,0.15);\n",
              "\tborder-bottom: 1px solid #cccccc;\n",
              "\tcounter-reset: h2counter;\t\n",
              "}\n",
              "\n",
              "h2 {\n",
              "\ttext-align: center;\n",
              "\twidth: 75%;\n",
              "\tmargin-left: 25%;\n",
              "\tbackground-color: rgba(255,255,1,0.15);\n",
              "\tborder-bottom: 1px solid #cccccc;\n",
              "\tcounter-reset: h3counter;\t\n",
              "}\n",
              "h2:before {\n",
              "\tcounter-increment: h2counter;\n",
              "}\n",
              "\n",
              "h3 {\n",
              "\tborder-bottom: 1px solid #cccccc;\t\n",
              "}\n",
              "h3:before {\n",
              "\tcounter-increment: h3counter;\n",
              "}\n",
              "\n",
              "h4 {\n",
              "\tborder-bottom: 1px solid #cccccc;\t\n",
              "}\n",
              "h4:before {\n",
              "\tcounter-increment: h4counter;\n",
              "}\n",
              " </style>Python practical setup tools version 23.2. See <a target=\"_blank\" href=\"https://setu-discretemathematics.github.io/live/00-Module_Introduction/33-Python_Practicals\">https://setu-discretemathematics.github.io/live/00-Module_Introduction/33-Python_Practicals</a>"
            ]
          },
          "metadata": {},
          "execution_count": 2
        }
      ],
      "source": [
        "# setup magic, do not edit this cell! Just press Shift+Enter or click on arrow at top-left\n",
        "\n",
        "import urllib.request\n",
        "content = urllib.request.urlretrieve (\"https://setu-discretemathematics.github.io/live/files/setup_practical_magic.py\")\n",
        "exec(open(content[0]).read())\n",
        "setup_practical(locals(),_ih)"
      ]
    },
    {
      "cell_type": "markdown",
      "metadata": {
        "id": "oK5ZteDstpi3",
        "label": "Introduction"
      },
      "source": [
        "---\n",
        "## Introduction\n",
        "\n",
        "In this practical we will\n",
        "\n",
        "  * Demonstrate the Python implementation of sets\n",
        "  * Builder notation in Python"
      ]
    },
    {
      "cell_type": "markdown",
      "metadata": {
        "id": "G8GHkwbDQ8cO"
      },
      "source": [
        "### Mathematics Concepts\n",
        "\n",
        " * Sets, definition and membership  \\\\(\\in\\\\) vs \\\\(\\notin\\\\)\n",
        " * Builder notation\n"
      ]
    },
    {
      "cell_type": "markdown",
      "metadata": {
        "id": "bHJ_wW9gQ8cP"
      },
      "source": [
        "### Python Concepts\n",
        "\n",
        " * Create an empty set: `set()`\n",
        " * Define a set by listing its elements.\n",
        " * Check for membership, using `in` operator.\n",
        " * Generating a sequence using `range`"
      ]
    },
    {
      "cell_type": "markdown",
      "metadata": {
        "id": "EOvqtEKFQ8cQ"
      },
      "source": [
        "---\n",
        "\n",
        "## Defining Sets and Membership\n",
        "\n",
        "Define an empty set using  \n",
        "\n",
        "~~~python\n",
        "A = set()\n",
        "~~~\n",
        "\n",
        "Then add element `3` to the set using\n",
        "\n",
        "~~~python\n",
        "A.add(3)\n",
        "~~~\n",
        "\n",
        "and check for membership using `in` as\n",
        "\n",
        "~~~python\n",
        "4 in A\n",
        "~~~\n",
        "\n",
        "to print the set use\n",
        "\n",
        "~~~python\n",
        "print(A)\n",
        "~~~\n",
        "\n",
        "**Notes:**\n",
        "\n",
        " * To cut down on unwanted output, the output of all commands (except for the last command) and all assignment commands are not shown. So, if you want to see more output you should use the `print` command. Also rather than just using\n",
        "\n",
        "~~~python\n",
        "print(A)\n",
        "~~~\n",
        "\n",
        "   consider making your print statements more informative by including extra information such as\n",
        "  \n",
        "~~~python\n",
        "print(\"A = \", A)\n",
        "~~~  \n",
        "\n",
        " * We are using uppercase letters for our sets &mdash; this is the usual convention in Mathematics for sets. Note: your programming lecturers have hopefully talked to you about naming conventions (in Processing/Java) and would use lowercase letters here. The default naming convention in Processing/Java is great but as a programmer you should know when to break from it  (see [Hungarian Wars](https://blog.codinghorror.com/hungarian-wars/))."
      ]
    },
    {
      "cell_type": "markdown",
      "metadata": {
        "id": "Kc7nPuEwQ8cQ"
      },
      "source": [
        "### Example 1\n",
        "\n",
        "Write code to\n",
        "\n",
        " * create a empty set,\n",
        " * output the set,\n",
        " * add the numbers 1, 4 and 5 to it,\n",
        " * output the set,\n",
        " * check if 2 is a member of the set."
      ]
    },
    {
      "cell_type": "code",
      "execution_count": null,
      "metadata": {
        "id": "5_SteEfFQ8cR",
        "colab": {
          "base_uri": "https://localhost:8080/"
        },
        "outputId": "bd97ab4f-48c2-4eae-ffc2-744f89ea3efc"
      },
      "outputs": [
        {
          "output_type": "stream",
          "name": "stdout",
          "text": [
            "A = set()\n",
            "A = {1, 4, 5}\n"
          ]
        },
        {
          "output_type": "execute_result",
          "data": {
            "text/plain": [
              "False"
            ]
          },
          "metadata": {},
          "execution_count": 3
        }
      ],
      "source": [
        "A = set() # note A = {} in maths won't work here. {} is a empty dictionary\n",
        "print(\"A =\", A)\n",
        "A.add(1)\n",
        "A.add(4)\n",
        "A.add(5)\n",
        "print(\"A =\", A)\n",
        "2 in A # testing if 2 is an element of A\n"
      ]
    },
    {
      "cell_type": "markdown",
      "metadata": {
        "id": "7NugzJfnQ8cU"
      },
      "source": [
        "### Question 1\n",
        "\n",
        "Write code to\n",
        "\n",
        " * create a empty set, called `C`,\n",
        " * Add the letters 'a', 'b' and 'g' to it,\n",
        " * Display/print the set with a label,\n",
        " * Check if 'g' is a member of the set.\n",
        "\n",
        "**Note:** Characters must be within quotes &mdash; use `'g'` or `\"g\"` and not `g`"
      ]
    },
    {
      "cell_type": "code",
      "execution_count": null,
      "metadata": {
        "id": "Q-LvUtwYQ8cU",
        "label": "Q1",
        "tags": [
          "Q1"
        ]
      },
      "outputs": [],
      "source": [
        "# Question 1\n"
      ]
    },
    {
      "cell_type": "code",
      "source": [
        "Q = {1,2,3}\n",
        "print(\"Q =\", Q)"
      ],
      "metadata": {
        "colab": {
          "base_uri": "https://localhost:8080/"
        },
        "id": "4f5yxIGgRB_E",
        "outputId": "1625a085-9c6d-4daa-a5ee-80bca7867ec5"
      },
      "execution_count": null,
      "outputs": [
        {
          "output_type": "stream",
          "name": "stdout",
          "text": [
            "Q = {1, 2, 3}\n"
          ]
        }
      ]
    },
    {
      "cell_type": "markdown",
      "metadata": {
        "id": "7T0_TvsqQ8cX"
      },
      "source": [
        "### Question 2\n",
        "\n",
        "Write code to\n",
        "\n",
        " * Create a set, called `P`, containing the primes less than 50.\n",
        " * Determine how many primes are less than 50 using the `len` function."
      ]
    },
    {
      "cell_type": "code",
      "execution_count": null,
      "metadata": {
        "id": "ZaCWhXI9Q8cY",
        "label": "Q2",
        "tags": [
          "Q2"
        ]
      },
      "outputs": [],
      "source": [
        "# Question 2\n"
      ]
    },
    {
      "cell_type": "markdown",
      "metadata": {
        "id": "IVnDfN72Q8cb",
        "label": "Q1"
      },
      "source": [
        "---\n",
        "## Generating Larger Sets using Range Function\n",
        "\n",
        "The listing of individual elements that we did above is painful.  It would make life easier if we have a simple function to generate sequences of numbers satisfying a pattern.  The Python function `range` does exactly that &mdash; all we need do is convert the sequence to a set using `set` function. For example\n",
        "\n",
        "Set containing integers from 0 to 10, including 0 and excluding 10.\n",
        "\n",
        "~~~python\n",
        "set(range(10))             # -> {0, 1, 2, 3, 4, 5, 6, 7, 8, 9}\n",
        "~~~\n",
        "\n",
        "Set containing integers from 3 to 10, including 3 and excluding 10.\n",
        "\n",
        "~~~python\n",
        "set(range(3,10))           # -> {3, 4, 5, 6, 7, 8, 9}\n",
        "~~~    \n",
        "\n",
        "Set containing integers from 3 to 10, including 3 and excluding 10, in steps of 2.\n",
        "\n",
        "~~~python\n",
        "set(range(3,10,2))         # -> {3, 5, 7, 9}\n",
        "~~~    "
      ]
    },
    {
      "cell_type": "code",
      "source": [
        "set(range(10))"
      ],
      "metadata": {
        "colab": {
          "base_uri": "https://localhost:8080/"
        },
        "id": "_7oh9wBTSOGL",
        "outputId": "44fce70a-c5c2-414b-8c31-d7fef54788ce"
      },
      "execution_count": null,
      "outputs": [
        {
          "output_type": "execute_result",
          "data": {
            "text/plain": [
              "{0, 1, 2, 3, 4, 5, 6, 7, 8, 9}"
            ]
          },
          "metadata": {},
          "execution_count": 6
        }
      ]
    },
    {
      "cell_type": "markdown",
      "metadata": {
        "id": "5euvhQ80Q8cf"
      },
      "source": [
        "### Question 3\n",
        "\n",
        "Write code to generate and display the set, `D`, the set of all odd positive integers less than 10"
      ]
    },
    {
      "cell_type": "code",
      "execution_count": null,
      "metadata": {
        "id": "XMI6qMjaQ8cf",
        "label": "Q3",
        "tags": [
          "Q3"
        ]
      },
      "outputs": [],
      "source": [
        "# Question 3\n"
      ]
    },
    {
      "cell_type": "markdown",
      "metadata": {
        "id": "3Jm87NtbQ8ci"
      },
      "source": [
        "### Question 4\n",
        "\n",
        "Write code to generate and display the set, `E`, a set of multiples of 17 between 0 and 1000 inclusive, and determine how many elements in the set."
      ]
    },
    {
      "cell_type": "code",
      "source": [
        "M=set(range(2,51,5))\n",
        "print(\"M = \", M)\n",
        "\n",
        "no_elements = len(M)\n",
        "print(\"|M|=\",no_elements)\n",
        "\n",
        "print(\"|M|=\",len(M))"
      ],
      "metadata": {
        "colab": {
          "base_uri": "https://localhost:8080/"
        },
        "id": "SzY-EyUdS8Zi",
        "outputId": "62b455e6-6887-4374-e472-a8243d0f7e9c"
      },
      "execution_count": null,
      "outputs": [
        {
          "output_type": "stream",
          "name": "stdout",
          "text": [
            "M =  {32, 2, 37, 7, 42, 12, 47, 17, 22, 27}\n",
            "|M|= 10\n",
            "|M|= 10\n"
          ]
        }
      ]
    },
    {
      "cell_type": "code",
      "execution_count": null,
      "metadata": {
        "id": "qeL8kmc4Q8cj",
        "label": "Q4",
        "tags": [
          "Q4"
        ]
      },
      "outputs": [],
      "source": [
        "# Question 4\n"
      ]
    },
    {
      "cell_type": "markdown",
      "metadata": {
        "id": "VmP8JAksQ8cl"
      },
      "source": [
        "---\n",
        "## Generating Sets using Builder Notation\n",
        "\n",
        "We covered the builder notation in class\n",
        "$$\n",
        "    A = \\{\\text{pattern} \\mid \\text{rule} \\}\n",
        "$$\n",
        "For example the set of positive odd numbers less than 100 was\n",
        "$$\n",
        "    A = \\{x \\mid x=2k+1, 0<x<100, k\\in \\mathbb{N} \\}\n",
        "$$\n",
        "which is same as\n",
        "$$\n",
        "    A = \\{2k+1 \\mid 0\\le k<49, k\\in \\mathbb{N} \\}\n",
        "$$\n",
        "\n",
        "In python we implement this using\n",
        "\n",
        "~~~python\n",
        "set(2*k+1 for k in range(49))\n",
        "~~~\n",
        "or more simply\n",
        "\n",
        "~~~python\n",
        "{2*k+1 for k in range(49)}\n",
        "~~~\n",
        "\n",
        "Alternatively we can use `step=2` in `range` command\n",
        "\n",
        "~~~python\n",
        "{k for k in range(1,100,2)}\n",
        "~~~\n",
        "\n",
        "Alternatively we can filter out the even numbers using an `if` clause\n",
        "\n",
        "\n",
        "~~~python\n",
        "{k for k in range(1,100) if k%2==1}\n",
        "~~~\n",
        "\n",
        "Note here `k%2` gives the remainder of dividing `k` by `2`."
      ]
    },
    {
      "cell_type": "code",
      "source": [
        "# We will use range(largeNum) as a standin for natual no.s"
      ],
      "metadata": {
        "id": "hZn55kzBU4Ch"
      },
      "execution_count": null,
      "outputs": []
    },
    {
      "cell_type": "code",
      "source": [
        "A = set(2*k+1 for k in range(49))\n",
        "print(\"A = \",A)\n",
        "\n",
        "# instead of set(range(100))\n",
        "A = {k for k in range(100)}\n",
        "print(\"A = \",A)\n",
        "\n",
        "A = {k for k in range(100) if not (k<=40 and k>=20)} #filter out numbers between 20 and 40\n",
        "print(\"A = \",A)\n",
        "\n",
        "A = {k for k in range(100) if k % 13 == 0} #filter out numbers that are multiples of 13\n",
        "print(\"A = \",A)\n",
        "\n",
        "A = {k for k in range(1000) if k % 13 == 0 and k % 9 ==0} #filter out numbers that are multiples of 13\n",
        "print(\"A = \",A)"
      ],
      "metadata": {
        "colab": {
          "base_uri": "https://localhost:8080/"
        },
        "id": "zJONL86RUYVD",
        "outputId": "285a6340-0044-42af-d125-8d7f9b620c5a"
      },
      "execution_count": null,
      "outputs": [
        {
          "output_type": "stream",
          "name": "stdout",
          "text": [
            "A =  {1, 3, 5, 7, 9, 11, 13, 15, 17, 19, 21, 23, 25, 27, 29, 31, 33, 35, 37, 39, 41, 43, 45, 47, 49, 51, 53, 55, 57, 59, 61, 63, 65, 67, 69, 71, 73, 75, 77, 79, 81, 83, 85, 87, 89, 91, 93, 95, 97}\n",
            "A =  {0, 1, 2, 3, 4, 5, 6, 7, 8, 9, 10, 11, 12, 13, 14, 15, 16, 17, 18, 19, 20, 21, 22, 23, 24, 25, 26, 27, 28, 29, 30, 31, 32, 33, 34, 35, 36, 37, 38, 39, 40, 41, 42, 43, 44, 45, 46, 47, 48, 49, 50, 51, 52, 53, 54, 55, 56, 57, 58, 59, 60, 61, 62, 63, 64, 65, 66, 67, 68, 69, 70, 71, 72, 73, 74, 75, 76, 77, 78, 79, 80, 81, 82, 83, 84, 85, 86, 87, 88, 89, 90, 91, 92, 93, 94, 95, 96, 97, 98, 99}\n",
            "A =  {0, 1, 2, 3, 4, 5, 6, 7, 8, 9, 10, 11, 12, 13, 14, 15, 16, 17, 18, 19, 41, 42, 43, 44, 45, 46, 47, 48, 49, 50, 51, 52, 53, 54, 55, 56, 57, 58, 59, 60, 61, 62, 63, 64, 65, 66, 67, 68, 69, 70, 71, 72, 73, 74, 75, 76, 77, 78, 79, 80, 81, 82, 83, 84, 85, 86, 87, 88, 89, 90, 91, 92, 93, 94, 95, 96, 97, 98, 99}\n",
            "A =  {0, 65, 39, 13, 78, 52, 26, 91}\n",
            "A =  {0, 936, 585, 234, 819, 468, 117, 702, 351}\n"
          ]
        }
      ]
    },
    {
      "cell_type": "code",
      "source": [
        "(936/9, 936/13)"
      ],
      "metadata": {
        "colab": {
          "base_uri": "https://localhost:8080/"
        },
        "id": "rbVAVnB8Z0r8",
        "outputId": "ef654d96-9165-4c4e-ef26-ae5f124215c8"
      },
      "execution_count": null,
      "outputs": [
        {
          "output_type": "execute_result",
          "data": {
            "text/plain": [
              "(104.0, 72.0)"
            ]
          },
          "metadata": {},
          "execution_count": 27
        }
      ]
    },
    {
      "cell_type": "markdown",
      "metadata": {
        "id": "kPO3bcFTQ8cl"
      },
      "source": [
        "### Question 5\n",
        "\n",
        "Write code to generate and display the set, `F`, a set of positive integers less than 1000 that are multiples of 3. Also output the number of elements in the set."
      ]
    },
    {
      "cell_type": "code",
      "execution_count": null,
      "metadata": {
        "id": "b5h8jp6IQ8cl",
        "label": "Q5",
        "tags": [
          "Q5"
        ]
      },
      "outputs": [],
      "source": [
        "# Question 5\n"
      ]
    },
    {
      "cell_type": "markdown",
      "metadata": {
        "id": "W1GLmiRgQ8co"
      },
      "source": [
        "### Question 6\n",
        "\n",
        "Write code to generate and display the set, `G`, a set of positive integers less than 1000 that are multiples of 5. Also output the number of elements in the set."
      ]
    },
    {
      "cell_type": "code",
      "execution_count": null,
      "metadata": {
        "id": "vcRS97p0Q8cp",
        "label": "Q6",
        "tags": [
          "Q6"
        ]
      },
      "outputs": [],
      "source": [
        "# Question 6\n",
        "\n"
      ]
    },
    {
      "cell_type": "markdown",
      "metadata": {
        "id": "xnF7o6QMQ8cr"
      },
      "source": [
        "### Question 7\n",
        "\n",
        "Write code to generate and display the set, `H`, a set of positive integers less than 1000 that are multiples of 3 or multiples of 5. Also output the number of elements in the set.\n",
        "\n",
        "Hint: Use a filter (as shown above)"
      ]
    },
    {
      "cell_type": "code",
      "execution_count": null,
      "metadata": {
        "id": "N5Yosx_nQ8cs",
        "label": "Q7",
        "tags": [
          "Q7"
        ]
      },
      "outputs": [],
      "source": [
        "# Question 7\n"
      ]
    },
    {
      "cell_type": "markdown",
      "metadata": {
        "id": "CCHysYiYuEhY"
      },
      "source": [
        "---\n",
        "## Review/Feedback (P03)"
      ]
    },
    {
      "cell_type": "code",
      "execution_count": null,
      "metadata": {
        "cellView": "form",
        "id": "H7PIHTZVt_ww"
      },
      "outputs": [],
      "source": [
        "#@markdown This a a short questionnaire for you to provide feedback on how you think the semester is progressing and in particular for __Discrete Mathematics__, how easy/difficult, interesting/boring, useful/confusing you find the material. By completing the following you will help us improve our delivery.<br />Please enter your feedback and click on arrow at top-left to save.\n",
        "\n",
        "#@markdown **This practical**\n",
        "\n",
        "#@markdown How difficult did you find this practical?\n",
        "practical_difficulty = 'No opinion' #@param ['No opinion', \"Too easy', 'Easy', 'About right', 'Some bits were hard but overall it was doable', 'Too difficult', 'Impossible']\n",
        "\n",
        "#@markdown Including online session time, how long (in minutes) did it take for you to finish this practical?\n",
        "practical_duration = 0 #@param {type: \"number\"}\n",
        "\n",
        "#@markdown **This week's material**\n",
        "\n",
        "#@markdown How difficult did you find each of the following this week?\n",
        "lecture_difficulty = 'No opinion' #@param ['No opinion', \"Too easy', 'Easy', 'About right', 'Some bits were hard but overall it was doable', 'Too difficult', 'Impossible']\n",
        "\n",
        "tutorial_questions_difficulty = 'No opinion' #@param ['No opinion', \"Too easy', 'Easy', 'About right', 'Some bits were hard but overall it was doable', 'Too difficult', 'Impossible']\n",
        "\n",
        "#@markdown Use the line below to enter any comments &mdash; what you liked, what you did not like. Again all feedback is welcome.\n",
        "general_comment = \"\" #@param {type: \"string\"}"
      ]
    }
  ],
  "metadata": {
    "colab": {
      "provenance": [],
      "include_colab_link": true
    },
    "kernelspec": {
      "display_name": "Python 3",
      "language": "python",
      "name": "python3"
    },
    "language_info": {
      "codemirror_mode": {
        "name": "ipython",
        "version": 3
      },
      "file_extension": ".py",
      "mimetype": "text/x-python",
      "name": "python",
      "nbconvert_exporter": "python",
      "pygments_lexer": "ipython3",
      "version": "3.9.10"
    },
    "toc": {
      "toc_cell": false,
      "toc_number_sections": true,
      "toc_threshold": 6,
      "toc_window_display": false
    }
  },
  "nbformat": 4,
  "nbformat_minor": 0
}