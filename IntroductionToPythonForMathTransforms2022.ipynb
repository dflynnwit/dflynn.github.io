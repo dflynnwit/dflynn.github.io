{
  "nbformat": 4,
  "nbformat_minor": 0,
  "metadata": {
    "colab": {
      "name": "IntroductionToPythonForMathTransforms2021.ipynb",
      "provenance": [],
      "collapsed_sections": [],
      "authorship_tag": "ABX9TyOL/h7rfj/h+ltAulLE20ab",
      "include_colab_link": true
    },
    "kernelspec": {
      "name": "python3",
      "display_name": "Python 3"
    },
    "language_info": {
      "name": "python"
    }
  },
  "cells": [
    {
      "cell_type": "markdown",
      "metadata": {
        "id": "view-in-github",
        "colab_type": "text"
      },
      "source": [
        "<a href=\"https://colab.research.google.com/github/dflynnwit/dflynn.github.io/blob/master/IntroductionToPythonForMathTransforms2021.ipynb\" target=\"_parent\"><img src=\"https://colab.research.google.com/assets/colab-badge.svg\" alt=\"Open In Colab\"/></a>"
      ]
    },
    {
      "cell_type": "markdown",
      "metadata": {
        "id": "LMCNEpp5KVnP"
      },
      "source": [
        "# Introduction to Python in Colab Notebooks\n",
        "Python is an interpreted language (i.e. not compiled like C or C++ etc.) One advantage, is that you can quickly get the results of the calculation. A downside is that the calculation is slower in most cases than C or C++. However, there are libraries that you can load in that perform calculations on par with C/C++ for some types of applications.\n",
        "\n",
        "The notebook you have open is hosted online by Google. It consists of cells (the text here is in a *text* cell), whereas your calculations and small programs are written and exectured in a *Code* cell). \n",
        "If you double click on this cell, you will see the source text used the generated the nicer looking Rich text that you see here.\n",
        "\n",
        "Note that we can also write mathematical expressions (You don't need to do nice but it's nice to know):\n",
        "$$x=\\frac{-b \\pm \\sqrt{b^2-4ac}}{2a}$$"
      ]
    },
    {
      "cell_type": "markdown",
      "metadata": {
        "id": "nniEjAKmL-kD"
      },
      "source": [
        "## Ex1 a simple calculation\n",
        "We can perform simple calculator type of calculations:"
      ]
    },
    {
      "cell_type": "code",
      "metadata": {
        "id": "iep74cLiKRuo"
      },
      "source": [
        "1+1"
      ],
      "execution_count": null,
      "outputs": []
    },
    {
      "cell_type": "code",
      "metadata": {
        "id": "OJjm9aL1MI7L"
      },
      "source": [
        "3/2"
      ],
      "execution_count": null,
      "outputs": []
    },
    {
      "cell_type": "code",
      "metadata": {
        "id": "k4sSMVF_NHDT"
      },
      "source": [
        "sin(90)"
      ],
      "execution_count": null,
      "outputs": []
    },
    {
      "cell_type": "markdown",
      "metadata": {
        "id": "YKKArw0HNR1A"
      },
      "source": [
        "Oops! something above went wrong!\n",
        "We are missing the maths library"
      ]
    },
    {
      "cell_type": "markdown",
      "metadata": {
        "id": "6sHpkHR2MOY7"
      },
      "source": [
        "Some calculations need a special maths library. If we use ```from math import *``` we literally get all the functions. There are other ways to do this though. Look at this another time."
      ]
    },
    {
      "cell_type": "code",
      "metadata": {
        "id": "z8vqcQJ_MKGb"
      },
      "source": [
        "from math import *\n",
        "sin(1)"
      ],
      "execution_count": null,
      "outputs": []
    },
    {
      "cell_type": "code",
      "metadata": {
        "id": "mxmQyyA2MMk2"
      },
      "source": [
        "cos(90)"
      ],
      "execution_count": null,
      "outputs": []
    },
    {
      "cell_type": "code",
      "metadata": {
        "id": "KtsQduLNMmJ0"
      },
      "source": [
        "?degrees"
      ],
      "execution_count": null,
      "outputs": []
    },
    {
      "cell_type": "code",
      "metadata": {
        "id": "HdvlB0KHMqST"
      },
      "source": [
        "?radians"
      ],
      "execution_count": null,
      "outputs": []
    },
    {
      "cell_type": "code",
      "metadata": {
        "id": "QqkHptVFMt4u"
      },
      "source": [
        "sin(radians(90))"
      ],
      "execution_count": null,
      "outputs": []
    },
    {
      "cell_type": "code",
      "metadata": {
        "id": "Fw0vd1OeMwZQ"
      },
      "source": [
        "cos(radians(90))"
      ],
      "execution_count": null,
      "outputs": []
    },
    {
      "cell_type": "markdown",
      "metadata": {
        "id": "eaiIiIdcMzcF"
      },
      "source": [
        "The answer above should be zero but at 10**-17 on a computer is effectivly zero."
      ]
    },
    {
      "cell_type": "code",
      "metadata": {
        "id": "c9Wx9NEHMyBH"
      },
      "source": [
        "degrees(acos(0))"
      ],
      "execution_count": null,
      "outputs": []
    },
    {
      "cell_type": "markdown",
      "metadata": {
        "id": "gcJlmeJ1YXIW"
      },
      "source": [
        "variables"
      ]
    },
    {
      "cell_type": "code",
      "metadata": {
        "id": "WAOgN0HmN4lg"
      },
      "source": [
        "a=2\n",
        "b=3"
      ],
      "execution_count": null,
      "outputs": []
    },
    {
      "cell_type": "code",
      "metadata": {
        "id": "v6W0juDWYcJd"
      },
      "source": [
        "a+b"
      ],
      "execution_count": null,
      "outputs": []
    },
    {
      "cell_type": "code",
      "metadata": {
        "id": "BnNBgEXsYdbS"
      },
      "source": [
        "a**b"
      ],
      "execution_count": null,
      "outputs": []
    },
    {
      "cell_type": "code",
      "metadata": {
        "id": "W01gzNzdYfb-"
      },
      "source": [
        "b**a"
      ],
      "execution_count": null,
      "outputs": []
    },
    {
      "cell_type": "markdown",
      "metadata": {
        "id": "Cu2TbzhtaZYB"
      },
      "source": [
        "### Working with lots of numbers\n",
        "We can create a list of number using the square brackets"
      ]
    },
    {
      "cell_type": "code",
      "metadata": {
        "id": "jfyjLzhTY7vu"
      },
      "source": [
        "xvals = [0,1,2,3,4,5,6,7,8]\n",
        "yvals = [0,2,4,6,8,10,12,14,16]"
      ],
      "execution_count": null,
      "outputs": []
    },
    {
      "cell_type": "code",
      "metadata": {
        "id": "blG2readataz"
      },
      "source": [
        "%matplotlib inline\n",
        "import matplotlib.pyplot as plt"
      ],
      "execution_count": null,
      "outputs": []
    },
    {
      "cell_type": "code",
      "metadata": {
        "id": "QLQ5JvRtawVu"
      },
      "source": [
        "plt.plot(xvals,yvals)"
      ],
      "execution_count": null,
      "outputs": []
    },
    {
      "cell_type": "code",
      "metadata": {
        "id": "_W4x_dFBayyq"
      },
      "source": [
        ""
      ],
      "execution_count": null,
      "outputs": []
    }
  ]
}