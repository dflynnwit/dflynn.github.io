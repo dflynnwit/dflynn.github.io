{
  "nbformat": 4,
  "nbformat_minor": 0,
  "metadata": {
    "colab": {
      "name": "Lab2_MathTransforms_Please Save a copy of this file in your Drive and Write your NameHere.ipynb",
      "provenance": [],
      "collapsed_sections": [],
      "authorship_tag": "ABX9TyNgnnfAAGlbJdGW8aNClgrn",
      "include_colab_link": true
    },
    "kernelspec": {
      "name": "python3",
      "display_name": "Python 3"
    },
    "language_info": {
      "name": "python"
    }
  },
  "cells": [
    {
      "cell_type": "markdown",
      "metadata": {
        "id": "view-in-github",
        "colab_type": "text"
      },
      "source": [
        "<a href=\"https://colab.research.google.com/github/dflynnwit/dflynn.github.io/blob/master/Lab2_MathTransforms_Please_Save_a_copy_of_this_file_in_your_Drive_and_Write_your_NameHere.ipynb\" target=\"_parent\"><img src=\"https://colab.research.google.com/assets/colab-badge.svg\" alt=\"Open In Colab\"/></a>"
      ]
    },
    {
      "cell_type": "code",
      "metadata": {
        "cellView": "form",
        "id": "Ecc7vlTme2l4"
      },
      "source": [
        "#@markdown **Please enter your following details and press Shift-Enter to save:**\n",
        "your_student_number = '' #@param {type: \"string\"}\n",
        "your_name = '' #@param {type: \"string\"}"
      ],
      "execution_count": null,
      "outputs": []
    },
    {
      "cell_type": "markdown",
      "metadata": {
        "id": "py0a4woEYJc5"
      },
      "source": [
        "#Lists\n",
        "A List in Python is written with open and closed square brackets ```[``` and ```]```, with values separted with commas. \n",
        "E.g. a list of numbers from 1 to 5 would be ```[1, 2, 3, 4, 5]```.\n",
        "We can store values, lists or anything we like in variables. We don't need to tell Python what type we want our variables to be, as one would in C/C++ etc. languages. \n",
        "\n",
        "**Ex.1 Store the following in the variables a,b,c,d, i.e. fill in the following below:**\n",
        "* 10.1\n",
        "* \"Hello World\"\n",
        "* 3.14159\n",
        "* [0, 0.1, 0.2, 0.3, 0.4]\n",
        "\n"
      ]
    },
    {
      "cell_type": "code",
      "metadata": {
        "id": "X418-6YZYEbH"
      },
      "source": [
        "a = \n",
        "b = \n",
        "c = \n",
        "d = \n",
        "print(a)\n",
        "print(b)\n",
        "print(c)\n",
        "print(d)"
      ],
      "execution_count": null,
      "outputs": []
    },
    {
      "cell_type": "markdown",
      "metadata": {
        "id": "bZHieNRBZkEo"
      },
      "source": [
        "**Question 1.**\n",
        "1. Create a list of values from 0 to 5 in steps of 1, store the value in L1\n",
        "2. Likewise create a list of values from 0 to 10 in steps of two and store the value in L2.\n"
      ]
    },
    {
      "cell_type": "code",
      "metadata": {
        "id": "7SnTm92GZgEr"
      },
      "source": [
        "L1 = \n",
        "L2 = \n",
        "print(L1)\n",
        "print(L2)"
      ],
      "execution_count": null,
      "outputs": []
    },
    {
      "cell_type": "markdown",
      "metadata": {
        "id": "yHwD_W3vaH4u"
      },
      "source": [
        "### Automatic generation of lists\n",
        "We can save ourselves work by letting the computer do this for us!\n",
        "E.g. if I want a list from 1 to 10 I can do the following:\n",
        "\n",
        "```list (range(1,10))```\n",
        "\n",
        "The function ```range``` takes a start value and an end value and it assumes a step of 1. \n",
        "If we wish to have steps other than 1, we add a third parameter, e.g. the following will start at 1 and end at 10 but will take every second value:\n",
        "\n",
        "```list (range(1,10,2))```\n",
        "\n",
        "The last value is the step size. Note that 10 was never included, why?\n",
        "Because range produces values **less than** 10 but **greater than or equal to 1**  i.e. $$ 1 \\leq k \\lt 10$$\n",
        "\n",
        "In general **range** produces:\n",
        "$$ \\mbox{start value} \\leq k {\\lt} \\mbox{ final value} $$\n",
        "\n",
        "**Ex. 2**\n",
        "* Make a list using the range function that starts at 0 and ends at 20. Store the result in variable L3.\n",
        "* Make another list that starts at 20 and ends at 60, with steps of 2."
      ]
    },
    {
      "cell_type": "code",
      "metadata": {
        "id": "vsK1Xs2daDXK"
      },
      "source": [
        "L3 = list (range(0,20))\n",
        "L4 = list (range(20, 60, 2))\n",
        "print(L3)\n",
        "print(L4)"
      ],
      "execution_count": null,
      "outputs": []
    },
    {
      "cell_type": "markdown",
      "metadata": {
        "id": "6Z7yHX35c1yT"
      },
      "source": [
        "**Length of a list**\n",
        "We use the ```len``` function i.e. ```len(L3)``` should give us 20, as we have 20 elements from 0 to 19. "
      ]
    },
    {
      "cell_type": "code",
      "metadata": {
        "id": "BuTzaWzPaWdY"
      },
      "source": [
        "len(L3)"
      ],
      "execution_count": null,
      "outputs": []
    },
    {
      "cell_type": "markdown",
      "metadata": {
        "id": "7OF8I8vxdEW6"
      },
      "source": [
        "## Graphing \n",
        "We would like to make plots and so on.\n",
        "We need to bring in a special library for plotting (there are many of these) but in particular we will use a Matlab-like plotting library called MatplotLib!\n",
        "```import matplotlib.pyplot as plt```\n",
        "The above statement tells Python to import the library and give it an alias i.e. a \"nickname\" called plt (we would get tired of typing matplotlib.pyplot all of the time and make mistakes doing so).\n",
        "\n",
        "Once the library is imported, we can plot y-values vs x-value but the order is the following:\n",
        "```plt.plot(xvaluesList, yvaluesList)```\n",
        "Try it below!\n",
        "\n",
        "**Ex. 3**\n",
        "Make sure that the L1 etc. lists above are executed from earlier i.e. in the memory. If not run them again.\n",
        "\n",
        "* Plot L2 vs. L1\n",
        "* Plot L4 vs. L3"
      ]
    },
    {
      "cell_type": "code",
      "metadata": {
        "id": "zqdAet4mePRn"
      },
      "source": [
        ""
      ],
      "execution_count": null,
      "outputs": []
    }
  ]
}