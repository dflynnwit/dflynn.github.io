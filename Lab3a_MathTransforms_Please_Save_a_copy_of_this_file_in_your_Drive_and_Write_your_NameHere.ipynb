{
  "nbformat": 4,
  "nbformat_minor": 0,
  "metadata": {
    "colab": {
      "provenance": [],
      "authorship_tag": "ABX9TyPI53X706JEshaXvJ2STe8t",
      "include_colab_link": true
    },
    "kernelspec": {
      "name": "python3",
      "display_name": "Python 3"
    },
    "language_info": {
      "name": "python"
    }
  },
  "cells": [
    {
      "cell_type": "markdown",
      "metadata": {
        "id": "view-in-github",
        "colab_type": "text"
      },
      "source": [
        "<a href=\"https://colab.research.google.com/github/dflynnwit/dflynn.github.io/blob/master/Lab3a_MathTransforms_Please_Save_a_copy_of_this_file_in_your_Drive_and_Write_your_NameHere.ipynb\" target=\"_parent\"><img src=\"https://colab.research.google.com/assets/colab-badge.svg\" alt=\"Open In Colab\"/></a>"
      ]
    },
    {
      "cell_type": "code",
      "metadata": {
        "cellView": "form",
        "id": "Ecc7vlTme2l4"
      },
      "source": [
        "#@markdown **Please enter your following details and press Shift-Enter to save:**\n",
        "your_student_number = '' #@param {type: \"string\"}\n",
        "your_name = '' #@param {type: \"string\"}"
      ],
      "execution_count": null,
      "outputs": []
    },
    {
      "cell_type": "markdown",
      "metadata": {
        "id": "uhoRnxSLeoU5"
      },
      "source": [
        "## Functions\n",
        "Most programming languages use the concept of functions in a fashion similar to maths. That is, we have an input and an output (in the simplest case at least).\n",
        "Python is no different. To define a function we literally def (short for define) a function, let's see:\n",
        "```python\n",
        "def f(x):\n",
        "  return 2*x\n",
        "```\n",
        "\n",
        "The above takes the input x and returns twice that value.\n",
        "\n",
        "**NB:**\n",
        "* The keyword def must be lowercase.\n",
        "  * This is followed by the function name, e.g. f.\n",
        "* In round brackets we place our input(s).\n",
        "  * For more than one input, we separate them by a comma.\n",
        "* Just after the last round bracket we *must* include a colon i.e. the **`:`** not the `;` though!\n",
        "* Final important note :) we must *indent* (see below) the body of the function using spaces or tab, otherwise it won't be a part of the body.\n",
        "\n",
        "#Indentation in Python - it's important\n",
        "We need to make sure that the stuff that our function does is a part of the function. The only way to achieve this is to push to to the right i.e. indent it.\n",
        "The following is a visual reference of this approach (courtesy of [www.faceprep.in](https://www.faceprep.in/python/python-indentation/))\n",
        "![](https://ci4.googleusercontent.com/proxy/TfqJZgc0XX9Th3GmWu12_2Q-uEA94rar5Art2qlFTJK7uqH_4lU19LkRVDx-C2QyzFPXPBybC1e-R_lhKnkuuqlyCgGYX1aF0xLi4wGNc1aDu_9z=s0-d-e1-ft#https://i1.faceprep.in/Companies-1/python-indentation-example.png)\n"
      ]
    },
    {
      "cell_type": "markdown",
      "source": [
        "**EX1** In maths we simply write $$f(x) = x + 2$$ to define a function. To do the same in python, we have to do it step by step, however, if you compare the two, there are similarities."
      ],
      "metadata": {
        "id": "HBrT3PF8PPMC"
      }
    },
    {
      "cell_type": "code",
      "metadata": {
        "colab": {
          "base_uri": "https://localhost:8080/"
        },
        "id": "GptNjbtpghGH",
        "outputId": "cc25f628-eab0-47b3-9034-a7a274161dac"
      },
      "source": [
        "# define a function that takes x as the input and squares it. Return the result\n",
        "def f(x):\n",
        "  return x+2\n",
        "\n",
        "#test the function with some values\n",
        "f(4)"
      ],
      "execution_count": 4,
      "outputs": [
        {
          "output_type": "execute_result",
          "data": {
            "text/plain": [
              "6"
            ]
          },
          "metadata": {},
          "execution_count": 4
        }
      ]
    },
    {
      "cell_type": "markdown",
      "source": [
        "# Plotting our function\n",
        "Last week, we learned that we can plot functions by bringing in the Matlab-like *pyplot* library.\n",
        "\n",
        "We also had to list out inputs and calculate our outputs using our function. Here we want to produce x-values from 0 to (less than) 20 in steps of 1. For this we will use the **range** function (built into Python), i.e. range(0,20)."
      ],
      "metadata": {
        "id": "698gVHhfQfan"
      }
    },
    {
      "cell_type": "code",
      "source": [
        "#Bring in out plotting library\n",
        "import matplotlib.pyplot as plt\n",
        "\n",
        "x_values = [x for x in range(0,20)] # this is something new. Each single x will be \"picked\" out of range and added to our list\n",
        "#Let's print it, to be sure!\n",
        "print(\"x values are = \", x_values)\n",
        "y_values = [f(x) for x in x_values]\n",
        "print(\"y values are = \", y_values)\n",
        "#Plot it\n",
        "plt.plot(x_values, y_values)\n",
        "plt.show() # Keeps the output clean - and does other things that we haven't covered"
      ],
      "metadata": {
        "colab": {
          "base_uri": "https://localhost:8080/",
          "height": 465
        },
        "id": "UzmpTaXdRORI",
        "outputId": "b7988bb4-3900-4e36-94a0-6d67171ca0e2"
      },
      "execution_count": 7,
      "outputs": [
        {
          "output_type": "stream",
          "name": "stdout",
          "text": [
            "x values are =  [0, 1, 2, 3, 4, 5, 6, 7, 8, 9, 10, 11, 12, 13, 14, 15, 16, 17, 18, 19]\n",
            "y values are =  [2, 3, 4, 5, 6, 7, 8, 9, 10, 11, 12, 13, 14, 15, 16, 17, 18, 19, 20, 21]\n"
          ]
        },
        {
          "output_type": "display_data",
          "data": {
            "text/plain": [
              "<Figure size 640x480 with 1 Axes>"
            ],
            "image/png": "[encoded data removed]"
          },
          "metadata": {}
        }
      ]
    },
    {
      "cell_type": "markdown",
      "metadata": {
        "id": "R6JisxA4g1-r"
      },
      "source": [
        "**EX2** In maths we simply write $$f(x,y) =2x + 3y$$ to define a function with two variables. Python's approach is again similar"
      ]
    },
    {
      "cell_type": "code",
      "metadata": {
        "colab": {
          "base_uri": "https://localhost:8080/"
        },
        "id": "xmiPEZBHg2d-",
        "outputId": "0db4ddcf-19a5-42ef-e9d6-2d0557558dd5"
      },
      "source": [
        "# define a function that takes two inputs x and y, and outputs 2*x + 3*y\n",
        "def f(x,y):\n",
        "  return 2*x + 3*y\n",
        "\n",
        "\n",
        "#test it\n",
        "f(10,100)"
      ],
      "execution_count": 2,
      "outputs": [
        {
          "output_type": "execute_result",
          "data": {
            "text/plain": [
              "320"
            ]
          },
          "metadata": {},
          "execution_count": 2
        }
      ]
    },
    {
      "cell_type": "markdown",
      "source": [
        "We won't bother plotting this, as we haven't covered plotting in 3D. Can be done by poplular request though!"
      ],
      "metadata": {
        "id": "svOSLSnLSbw1"
      }
    },
    {
      "cell_type": "markdown",
      "metadata": {
        "id": "Oiqa73kNt82O"
      },
      "source": [
        "**EX3** We can write functions for quadratics e.g. $$ f(x) = x^2 + 5x + 6$$"
      ]
    },
    {
      "cell_type": "code",
      "source": [
        "# define a function that is a quadratic i.e. a * x^2 + b * x + c\n",
        "def f(x):\n",
        "  return x**2 + 5*x + 6\n",
        "\n",
        "#testing\n",
        "f(1)"
      ],
      "metadata": {
        "colab": {
          "base_uri": "https://localhost:8080/"
        },
        "id": "Q1KKLPRlQNR0",
        "outputId": "9c3f1c9f-f438-49d9-95a5-3df1b53f215c"
      },
      "execution_count": 8,
      "outputs": [
        {
          "output_type": "execute_result",
          "data": {
            "text/plain": [
              "12"
            ]
          },
          "metadata": {},
          "execution_count": 8
        }
      ]
    },
    {
      "cell_type": "code",
      "source": [
        "#Bring in out plotting library\n",
        "import matplotlib.pyplot as plt\n",
        "\n",
        "x_values = [x for x in range(0,20)] # this is something new. Each single x will be \"picked\" out of range and added to our list\n",
        "#Let's print it, to be sure!\n",
        "print(\"x values are = \", x_values)\n",
        "y_values = [f(x) for x in x_values]\n",
        "print(\"y values are = \", y_values)\n",
        "#Plot it\n",
        "plt.plot(x_values, y_values)\n",
        "plt.show() # Keeps the output clean - and does other things that we haven't covered"
      ],
      "metadata": {
        "colab": {
          "base_uri": "https://localhost:8080/",
          "height": 465
        },
        "id": "H2RF8ZrESmcK",
        "outputId": "ddc81fb3-c104-40c7-d444-f94d3b221a5c"
      },
      "execution_count": 9,
      "outputs": [
        {
          "output_type": "stream",
          "name": "stdout",
          "text": [
            "x values are =  [0, 1, 2, 3, 4, 5, 6, 7, 8, 9, 10, 11, 12, 13, 14, 15, 16, 17, 18, 19]\n",
            "y values are =  [6, 12, 20, 30, 42, 56, 72, 90, 110, 132, 156, 182, 210, 240, 272, 306, 342, 380, 420, 462]\n"
          ]
        },
        {
          "output_type": "display_data",
          "data": {
            "text/plain": [
              "<Figure size 640x480 with 1 Axes>"
            ],
            "image/png": "[encoded data removed]"
          },
          "metadata": {}
        }
      ]
    },
    {
      "cell_type": "markdown",
      "metadata": {
        "id": "5YK4xZZ7hbYZ"
      },
      "source": [
        "## The Numpy library\n",
        "Numpy is a library that has many Matlab-like features and an impressive amount of functionality.\n",
        "We will only use the parts that we need for our course however.\n",
        "\n",
        "To use any library we must first import it. We did that with the Matplotlib libary in the last lab.\n",
        "\n",
        "```python\n",
        "import numpy as np\n",
        "```\n",
        "The above not only imports numpy but gives it a 'nickname' `np`, that saves us a bit of typing effort in the long run.\n",
        "\n",
        "```python\n",
        "# numpy.linspace(start, stop, number of points)\n",
        "np.linspace(0,10)\n",
        "np.linspace(0,10,5)\n",
        "```\n",
        "\n",
        "[See linspace numpy for all details](https://numpy.org/doc/stable/reference/generated/numpy.linspace.html)"
      ]
    },
    {
      "cell_type": "markdown",
      "source": [
        "Notice that **linspace** is quite different from the **range** function.\n",
        "\n",
        "While **linspace** has a start and an end, it will use/reach the end value. **range** will not.\n",
        "\n",
        "It also subdivides the start to end, such that the number of values is either 50 (default) e.g. `linspace(0,1)` will produce 50 points from 0 to 1.\n",
        "\n",
        "Whereas `linspace(0,1,100)` will use 100 (we sometimes do this for e.g. smoother graphs, or more precise calculations.\n",
        "\n",
        "Or we may want a 'rougher' representation as shown below with four points/values:"
      ],
      "metadata": {
        "id": "S7IrponQTZdR"
      }
    },
    {
      "cell_type": "code",
      "metadata": {
        "colab": {
          "base_uri": "https://localhost:8080/"
        },
        "id": "XoKVcEeozQXL",
        "outputId": "8d93bd3c-b2b3-46cf-ea14-ebf407074b42"
      },
      "source": [
        "import numpy as np\n",
        "np.linspace(0,10,4) # only use 4 points from 0 to 10 (inclusive)"
      ],
      "execution_count": 12,
      "outputs": [
        {
          "output_type": "execute_result",
          "data": {
            "text/plain": [
              "array([ 0.        ,  3.33333333,  6.66666667, 10.        ])"
            ]
          },
          "metadata": {},
          "execution_count": 12
        }
      ]
    },
    {
      "cell_type": "code",
      "source": [],
      "metadata": {
        "id": "Idqq4o2WUSKR"
      },
      "execution_count": null,
      "outputs": []
    }
  ]
}