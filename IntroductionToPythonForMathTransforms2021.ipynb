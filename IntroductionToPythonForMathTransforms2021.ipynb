{
  "nbformat": 4,
  "nbformat_minor": 0,
  "metadata": {
    "colab": {
      "name": "IntroductionToPythonForMathTransforms2021.ipynb",
      "provenance": [],
      "collapsed_sections": [],
      "authorship_tag": "ABX9TyO/UzGzKNQupbqp3NPvL2tV",
      "include_colab_link": true
    },
    "kernelspec": {
      "name": "python3",
      "display_name": "Python 3"
    },
    "language_info": {
      "name": "python"
    }
  },
  "cells": [
    {
      "cell_type": "markdown",
      "metadata": {
        "id": "view-in-github",
        "colab_type": "text"
      },
      "source": [
        "<a href=\"https://colab.research.google.com/github/dflynnwit/dflynn.github.io/blob/master/IntroductionToPythonForMathTransforms2021.ipynb\" target=\"_parent\"><img src=\"https://colab.research.google.com/assets/colab-badge.svg\" alt=\"Open In Colab\"/></a>"
      ]
    },
    {
      "cell_type": "markdown",
      "metadata": {
        "id": "LMCNEpp5KVnP"
      },
      "source": [
        "# Introduction to Python in Colab Notebooks\n",
        "Python is an interpreted language (i.e. not compiled like C or C++ etc.) One advantage, is that you can quickly get the results of the calculation. A downside is that the calculation is slower in most cases than C or C++. However, there are libraries that you can load in that perform calculations on par with C/C++ for some types of applications.\n",
        "\n",
        "The notebook you have open is hosted online by Google. It consists of cells (the text here is in a *text* cell), whereas your calculations and small programs are written and exectured in a *Code* cell). \n",
        "If you double click on this cell, you will see the source text used the generated the nicer looking Rich text that you see here.\n",
        "\n",
        "Note that we can also write mathematical expressions (You don't need to do nice but it's nice to know):\n",
        "$$x=\\frac{-b \\pm \\sqrt{b^2-4ac}}{2a}$$"
      ]
    },
    {
      "cell_type": "markdown",
      "metadata": {
        "id": "nniEjAKmL-kD"
      },
      "source": [
        "## Ex1 a simple calculation\n",
        "We can perform simple calculator type of calculations:"
      ]
    },
    {
      "cell_type": "code",
      "metadata": {
        "colab": {
          "base_uri": "https://localhost:8080/"
        },
        "id": "iep74cLiKRuo",
        "outputId": "c9c2fe28-e92c-4fb7-8826-5b8781a198c3"
      },
      "source": [
        "1+1"
      ],
      "execution_count": 1,
      "outputs": [
        {
          "output_type": "execute_result",
          "data": {
            "text/plain": [
              "2"
            ]
          },
          "metadata": {},
          "execution_count": 1
        }
      ]
    },
    {
      "cell_type": "code",
      "metadata": {
        "colab": {
          "base_uri": "https://localhost:8080/"
        },
        "id": "OJjm9aL1MI7L",
        "outputId": "1a0a7a60-a970-4a8a-db36-38c5b49864a3"
      },
      "source": [
        "3/2"
      ],
      "execution_count": 2,
      "outputs": [
        {
          "output_type": "execute_result",
          "data": {
            "text/plain": [
              "1.5"
            ]
          },
          "metadata": {},
          "execution_count": 2
        }
      ]
    },
    {
      "cell_type": "code",
      "metadata": {
        "id": "k4sSMVF_NHDT"
      },
      "source": [
        "sin(90)"
      ],
      "execution_count": null,
      "outputs": []
    },
    {
      "cell_type": "markdown",
      "metadata": {
        "id": "YKKArw0HNR1A"
      },
      "source": [
        "Oops! something above went wrong!\n",
        "We are missing the maths library"
      ]
    },
    {
      "cell_type": "markdown",
      "metadata": {
        "id": "6sHpkHR2MOY7"
      },
      "source": [
        "Some calculations need a special maths library. If we use ```from math import *``` we literally get all the functions. There are other ways to do this though. Look at this another time."
      ]
    },
    {
      "cell_type": "code",
      "metadata": {
        "colab": {
          "base_uri": "https://localhost:8080/"
        },
        "id": "z8vqcQJ_MKGb",
        "outputId": "4469ab05-f352-41f3-abdc-fb1cc2067260"
      },
      "source": [
        "from math import *\n",
        "sin(1)"
      ],
      "execution_count": 4,
      "outputs": [
        {
          "output_type": "execute_result",
          "data": {
            "text/plain": [
              "0.8414709848078965"
            ]
          },
          "metadata": {},
          "execution_count": 4
        }
      ]
    },
    {
      "cell_type": "code",
      "metadata": {
        "colab": {
          "base_uri": "https://localhost:8080/"
        },
        "id": "mxmQyyA2MMk2",
        "outputId": "6af95690-968c-4f7f-f8f2-9b2afbc94471"
      },
      "source": [
        "cos(90)"
      ],
      "execution_count": 5,
      "outputs": [
        {
          "output_type": "execute_result",
          "data": {
            "text/plain": [
              "-0.4480736161291701"
            ]
          },
          "metadata": {},
          "execution_count": 5
        }
      ]
    },
    {
      "cell_type": "code",
      "metadata": {
        "id": "KtsQduLNMmJ0"
      },
      "source": [
        "?degrees"
      ],
      "execution_count": 7,
      "outputs": []
    },
    {
      "cell_type": "code",
      "metadata": {
        "id": "HdvlB0KHMqST"
      },
      "source": [
        "?radians"
      ],
      "execution_count": 8,
      "outputs": []
    },
    {
      "cell_type": "code",
      "metadata": {
        "colab": {
          "base_uri": "https://localhost:8080/"
        },
        "id": "QqkHptVFMt4u",
        "outputId": "0e28b793-2e1a-4818-d8da-d2bd42c78ab9"
      },
      "source": [
        "sin(radians(90))"
      ],
      "execution_count": 9,
      "outputs": [
        {
          "output_type": "execute_result",
          "data": {
            "text/plain": [
              "1.0"
            ]
          },
          "metadata": {},
          "execution_count": 9
        }
      ]
    },
    {
      "cell_type": "code",
      "metadata": {
        "colab": {
          "base_uri": "https://localhost:8080/"
        },
        "id": "Fw0vd1OeMwZQ",
        "outputId": "926f2301-5637-45f3-9203-7eea9cafcf66"
      },
      "source": [
        "cos(radians(90))"
      ],
      "execution_count": 10,
      "outputs": [
        {
          "output_type": "execute_result",
          "data": {
            "text/plain": [
              "6.123233995736766e-17"
            ]
          },
          "metadata": {},
          "execution_count": 10
        }
      ]
    },
    {
      "cell_type": "markdown",
      "metadata": {
        "id": "eaiIiIdcMzcF"
      },
      "source": [
        "The answer above should be zero but at 10**-17 on a computer is effectivly zero."
      ]
    },
    {
      "cell_type": "code",
      "metadata": {
        "colab": {
          "base_uri": "https://localhost:8080/"
        },
        "id": "c9Wx9NEHMyBH",
        "outputId": "ad07150b-fcfd-42cd-e741-c9f51650cb08"
      },
      "source": [
        "degrees(acos(0))"
      ],
      "execution_count": 12,
      "outputs": [
        {
          "output_type": "execute_result",
          "data": {
            "text/plain": [
              "90.0"
            ]
          },
          "metadata": {},
          "execution_count": 12
        }
      ]
    },
    {
      "cell_type": "code",
      "metadata": {
        "id": "WAOgN0HmN4lg"
      },
      "source": [
        ""
      ],
      "execution_count": 14,
      "outputs": []
    }
  ]
}